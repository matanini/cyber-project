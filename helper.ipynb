{
 "cells": [
  {
   "cell_type": "code",
   "execution_count": 1,
   "metadata": {},
   "outputs": [],
   "source": [
    "import os\n",
    "salt = os.urandom(32)"
   ]
  },
  {
   "cell_type": "code",
   "execution_count": 3,
   "metadata": {},
   "outputs": [
    {
     "data": {
      "text/plain": [
       "b'\\x8c&\\xd6h\\xe2\\x12\\xafV+\\xa4\\x92?/\\x13\\xb1\\x88\\xf2+\\x86F\\xca\\x81\\x9fG\\xc5\\xd3\\r\\xe5\\xa8F\\x9eZ'"
      ]
     },
     "execution_count": 3,
     "metadata": {},
     "output_type": "execute_result"
    }
   ],
   "source": [
    "salt"
   ]
  },
  {
   "cell_type": "code",
   "execution_count": 14,
   "metadata": {},
   "outputs": [],
   "source": [
    "with open('secret.py', 'w') as f:\n",
    "    f.write(str(salt))"
   ]
  },
  {
   "cell_type": "code",
   "execution_count": 15,
   "metadata": {},
   "outputs": [],
   "source": [
    "with open('secret.py', 'r') as f:\n",
    "    test = f.readline()"
   ]
  },
  {
   "cell_type": "code",
   "execution_count": 18,
   "metadata": {},
   "outputs": [
    {
     "data": {
      "text/plain": [
       "True"
      ]
     },
     "execution_count": 18,
     "metadata": {},
     "output_type": "execute_result"
    }
   ],
   "source": [
    "from secret import SECRET\n",
    "\n",
    "SECRET == salt"
   ]
  },
  {
   "cell_type": "code",
   "execution_count": 8,
   "metadata": {},
   "outputs": [],
   "source": [
    "def f1(*args):\n",
    "    return args\n",
    "\n"
   ]
  },
  {
   "cell_type": "code",
   "execution_count": 11,
   "metadata": {},
   "outputs": [
    {
     "data": {
      "text/plain": [
       "0"
      ]
     },
     "execution_count": 11,
     "metadata": {},
     "output_type": "execute_result"
    }
   ],
   "source": [
    "len(f1())"
   ]
  },
  {
   "cell_type": "code",
   "execution_count": 11,
   "metadata": {},
   "outputs": [],
   "source": [
    "import hashlib\n",
    "import secrets\n",
    "salt = secrets.token_bytes(32)\n",
    "\n",
    "def encrypt_password(password):\n",
    "    our_app_iters = 500_000 \n",
    "    dk = hashlib.pbkdf2_hmac('sha256', password.encode(), salt, our_app_iters)\n",
    "    return dk.hex()"
   ]
  },
  {
   "cell_type": "code",
   "execution_count": 1,
   "metadata": {},
   "outputs": [
    {
     "ename": "NameError",
     "evalue": "name 'encrypt_password' is not defined",
     "output_type": "error",
     "traceback": [
      "\u001b[1;31m---------------------------------------------------------------------------\u001b[0m",
      "\u001b[1;31mNameError\u001b[0m                                 Traceback (most recent call last)",
      "\u001b[1;32mc:\\Users\\gonip\\OneDrive\\מסמכים\\GitHub\\cyber-project\\helper.ipynb Cell 9\u001b[0m in \u001b[0;36m2\n\u001b[0;32m      <a href='vscode-notebook-cell:/c%3A/Users/gonip/OneDrive/%D7%9E%D7%A1%D7%9E%D7%9B%D7%99%D7%9D/GitHub/cyber-project/helper.ipynb#X11sZmlsZQ%3D%3D?line=0'>1</a>\u001b[0m password \u001b[39m=\u001b[39m \u001b[39m\"\u001b[39m\u001b[39m12345678\u001b[39m\u001b[39m\"\u001b[39m\n\u001b[1;32m----> <a href='vscode-notebook-cell:/c%3A/Users/gonip/OneDrive/%D7%9E%D7%A1%D7%9E%D7%9B%D7%99%D7%9D/GitHub/cyber-project/helper.ipynb#X11sZmlsZQ%3D%3D?line=1'>2</a>\u001b[0m \u001b[39mprint\u001b[39m(encrypt_password(password))\n",
      "\u001b[1;31mNameError\u001b[0m: name 'encrypt_password' is not defined"
     ]
    }
   ],
   "source": [
    "password = \"12345678\"\n",
    "print(encrypt_password(password))"
   ]
  },
  {
   "cell_type": "code",
   "execution_count": 4,
   "metadata": {},
   "outputs": [
    {
     "name": "stdout",
     "output_type": "stream",
     "text": [
      "length should be at least 8\n",
      "Cant use | in password\n",
      "Password should have at least 1 lowercase letter\n"
     ]
    },
    {
     "data": {
      "text/plain": [
       "False"
      ]
     },
     "execution_count": 4,
     "metadata": {},
     "output_type": "execute_result"
    }
   ],
   "source": [
    "from services import password_check\n",
    "\n",
    "password = \"@1|6D\"\n",
    "password_check(password)"
   ]
  },
  {
   "cell_type": "code",
   "execution_count": null,
   "metadata": {},
   "outputs": [],
   "source": []
  }
 ],
 "metadata": {
  "kernelspec": {
   "display_name": "Python 3",
   "language": "python",
   "name": "python3"
  },
  "language_info": {
   "codemirror_mode": {
    "name": "ipython",
    "version": 3
   },
   "file_extension": ".py",
   "mimetype": "text/x-python",
   "name": "python",
   "nbconvert_exporter": "python",
   "pygments_lexer": "ipython3",
   "version": "3.10.8"
  },
  "orig_nbformat": 4
 },
 "nbformat": 4,
 "nbformat_minor": 2
}
